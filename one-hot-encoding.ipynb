{
 "cells": [
  {
   "cell_type": "markdown",
   "id": "127e2337-e941-4670-9446-14fb84255eb0",
   "metadata": {},
   "source": [
    "Importing modules"
   ]
  },
  {
   "cell_type": "code",
   "execution_count": 20,
   "id": "7c255d75-d38b-4da2-9d8c-213cbdb7360b",
   "metadata": {},
   "outputs": [],
   "source": [
    "import numpy as np\n",
    "import random"
   ]
  },
  {
   "cell_type": "markdown",
   "id": "a7f1a29a-cba0-441f-b908-04acaef0b820",
   "metadata": {},
   "source": [
    "Declaring constants"
   ]
  },
  {
   "cell_type": "code",
   "execution_count": 21,
   "id": "f67910cf-4aa5-4eb0-a05a-b1eefcbdd2df",
   "metadata": {},
   "outputs": [],
   "source": [
    "ALPHABET = ['A', 'C', 'G', 'T']"
   ]
  },
  {
   "cell_type": "markdown",
   "id": "651e3432-16dc-4bab-a4f1-5130ce66c67f",
   "metadata": {},
   "source": [
    "Creating random DNA sequences"
   ]
  },
  {
   "cell_type": "code",
   "execution_count": 22,
   "id": "b2ebf4a7-cf21-49d1-9328-43408ddcb695",
   "metadata": {},
   "outputs": [
    {
     "name": "stdout",
     "output_type": "stream",
     "text": [
      "Sequence 1: GTGTTGGGCGGCTAGTATCGCCGTTATCTTGAGGGCGGACGGTGCGCTAGACGTCTGTAGTCCGTATGTT\n",
      "Sequence 2: TCAGGGTTCAACCTCCTGCGTAGGAATATTGTCTTCGAAACTCGCCTGATCGCAGCCGGCCGGTGTTGTC\n",
      "Sequence 3: ATGCACTCCGCCTGAGATGCCGTAACATCCTGTACGACCGTACCAACGATACTGCGCTGTACTTCCACCG\n",
      "Sequence 4: TCAACCACATGACGCCTCCGGACTCTGGTTTACATACGTTTCATTACGTCGGTAAAGGGCGGAATGTTTT\n",
      "Sequence 5: TGGGAGCAGACCATCAGGGCCGCATTCGTCCGACCTACAGACAACGGCCCATGGTTGTTGATCAATTGGT\n",
      "Sequence 6: ACGATGTTAGACATTGAGCTATCGTTAAGAGCTAAAGTAAGCAACGATAGCGACCCGGATTCCTCCGGTT\n",
      "Sequence 7: GAGGTCGAGGCACAGCCCGCAAAACCCAGGCAGTGCCTAGTACGAGGACACGGCGCACCGAGGGAATGTA\n",
      "Sequence 8: TTTGTTTGTTAGCCCCTGCGGCGATCCGGGTCCTTCTTAAGATGAAGACTAATCGCCACGCCTTCGTTGG\n",
      "Sequence 9: CAATTGATTGTCGTGTAAGCTTCTTTGGGGGCCTGGCAACGTTAAGCCCCGCCGTCGTCCAGTAAGCCCA\n",
      "Sequence 10: GGATTGAGCATTAAGGCCTATTCCGTAATCGCGGAAAAATTCCCAGCGGCTCGTATCTGAGTACACACGC\n"
     ]
    }
   ],
   "source": [
    "# Define the possible DNA bases\n",
    "dna_bases = \"ACGT\"\n",
    "\n",
    "# Create an array to store the DNA sequences\n",
    "dna_sequences = []\n",
    "\n",
    "# Generate 10 DNA sequences of length 70\n",
    "num_sequences = 10\n",
    "sequence_length = 70\n",
    "\n",
    "for _ in range(num_sequences):\n",
    "    # Generate a random DNA sequence\n",
    "    sequence = ''.join(random.choice(dna_bases) for _ in range(sequence_length))\n",
    "    dna_sequences.append(sequence)\n",
    "\n",
    "# Print the array of DNA sequences\n",
    "for i, sequence in enumerate(dna_sequences):\n",
    "    print(f\"Sequence {i + 1}: {sequence}\")"
   ]
  },
  {
   "cell_type": "markdown",
   "id": "0658d386-0008-46f2-8c72-6a34849d263e",
   "metadata": {},
   "source": [
    "Defining function for one hot encoding"
   ]
  },
  {
   "cell_type": "code",
   "execution_count": 23,
   "id": "93a44e73-a110-4052-bf5c-affb0193b362",
   "metadata": {},
   "outputs": [],
   "source": [
    "def seq_to_one_hot(seq):\n",
    "    encoding = np.zeros((len(ALPHABET), len(seq)), dtype=np.float32)\n",
    "    for i, nucleotide in enumerate(seq[:len(seq)]):\n",
    "        if nucleotide not in ALPHABET:\n",
    "            encoding[ALPHABET.index('A'), i] = 0.25\n",
    "            encoding[ALPHABET.index('C'), i] = 0.25\n",
    "            encoding[ALPHABET.index('G'), i] = 0.25\n",
    "            encoding[ALPHABET.index('T'), i] = 0.25\n",
    "        else:\n",
    "            encoding[ALPHABET.index(nucleotide), i] = 1.0\n",
    "    #print('\\n')\n",
    "    return encoding"
   ]
  },
  {
   "cell_type": "markdown",
   "id": "c933881a-a6ee-4a87-b8fc-f81661b1a6b8",
   "metadata": {},
   "source": [
    "Generating encodings"
   ]
  },
  {
   "cell_type": "code",
   "execution_count": 24,
   "id": "d407201e-1c00-4490-9cc7-08c17db14a18",
   "metadata": {},
   "outputs": [],
   "source": [
    "encoded_sequences = np.array([seq_to_one_hot(seq) for seq in dna_sequences])"
   ]
  },
  {
   "cell_type": "markdown",
   "id": "b421f20c-5095-44e8-953a-c1161e49d954",
   "metadata": {},
   "source": [
    "Verifying encodings"
   ]
  },
  {
   "cell_type": "code",
   "execution_count": 25,
   "id": "ebe304bb-c6a4-43fd-9df2-c2acbd86592e",
   "metadata": {},
   "outputs": [
    {
     "data": {
      "text/plain": [
       "(10, 4, 70)"
      ]
     },
     "execution_count": 25,
     "metadata": {},
     "output_type": "execute_result"
    }
   ],
   "source": [
    "encoded_sequences.shape"
   ]
  },
  {
   "cell_type": "code",
   "execution_count": 26,
   "id": "a37797b1-59da-4ff8-88e9-cceee6d563fc",
   "metadata": {},
   "outputs": [
    {
     "data": {
      "text/plain": [
       "('G', 2, array([0., 0., 1., 0.], dtype=float32))"
      ]
     },
     "execution_count": 26,
     "metadata": {},
     "output_type": "execute_result"
    }
   ],
   "source": [
    "dna_sequences[0][0], ALPHABET.index(dna_sequences[0][0]),encoded_sequences[0][:,0]"
   ]
  },
  {
   "cell_type": "code",
   "execution_count": null,
   "id": "b20b5118-6e36-497f-a6d4-78fd98250e7c",
   "metadata": {},
   "outputs": [],
   "source": []
  }
 ],
 "metadata": {
  "kernelspec": {
   "display_name": "deepenv",
   "language": "python",
   "name": "deepenv"
  },
  "language_info": {
   "codemirror_mode": {
    "name": "ipython",
    "version": 3
   },
   "file_extension": ".py",
   "mimetype": "text/x-python",
   "name": "python",
   "nbconvert_exporter": "python",
   "pygments_lexer": "ipython3",
   "version": "3.11.4"
  }
 },
 "nbformat": 4,
 "nbformat_minor": 5
}
